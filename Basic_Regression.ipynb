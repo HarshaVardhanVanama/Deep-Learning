{
  "nbformat": 4,
  "nbformat_minor": 0,
  "metadata": {
    "colab": {
      "name": "Basic-Regression.ipynb",
      "version": "0.3.2",
      "provenance": [],
      "include_colab_link": true
    },
    "kernelspec": {
      "name": "python3",
      "display_name": "Python 3"
    }
  },
  "cells": [
    {
      "cell_type": "markdown",
      "metadata": {
        "id": "view-in-github",
        "colab_type": "text"
      },
      "source": [
        "<a href=\"https://colab.research.google.com/github/HarshaVardhanVanama/Deep-Learning/blob/master/Basic_Regression.ipynb\" target=\"_parent\"><img src=\"https://colab.research.google.com/assets/colab-badge.svg\" alt=\"Open In Colab\"/></a>"
      ]
    },
    {
      "metadata": {
        "id": "0peIzNI8pST9",
        "colab_type": "code",
        "colab": {
          "base_uri": "https://localhost:8080/",
          "height": 34
        },
        "outputId": "30c984ec-dc0b-45f3-87a0-373e6e282879"
      },
      "cell_type": "code",
      "source": [
        "from __future__ import absolute_import, division, print_function\n",
        "\n",
        "import tensorflow as tf\n",
        "from tensorflow import keras\n",
        "import numpy as np \n",
        "print(tf.__version__)"
      ],
      "execution_count": 2,
      "outputs": [
        {
          "output_type": "stream",
          "text": [
            "1.12.0\n"
          ],
          "name": "stdout"
        }
      ]
    },
    {
      "metadata": {
        "id": "PgHeLyK0pl0e",
        "colab_type": "code",
        "colab": {}
      },
      "cell_type": "code",
      "source": [
        "boston_housing = keras.datasets.boston_housing\n",
        "\n",
        "(train_data,train_labels),(test_data, test_labels) = boston_housing.load_data()\n",
        "order = np.argsort(np.random.random(train_labels.shape))\n",
        "train_data = train_data[order]\n",
        "train_labels = train_labels[order]\n"
      ],
      "execution_count": 0,
      "outputs": []
    },
    {
      "metadata": {
        "id": "zDm2BArHe4k6",
        "colab_type": "code",
        "colab": {
          "base_uri": "https://localhost:8080/",
          "height": 52
        },
        "outputId": "4176b762-5e27-41b3-b310-1031e51645b6"
      },
      "cell_type": "code",
      "source": [
        "print(\"Training Set : {}\".format(train_data.shape))\n",
        "print(\"Testing Set: {}\".format(test_data.shape))"
      ],
      "execution_count": 7,
      "outputs": [
        {
          "output_type": "stream",
          "text": [
            "Training Set : (404, 13)\n",
            "Testing Set: (102, 13)\n"
          ],
          "name": "stdout"
        }
      ]
    },
    {
      "metadata": {
        "id": "O29aiOvOe92G",
        "colab_type": "code",
        "colab": {
          "base_uri": "https://localhost:8080/",
          "height": 70
        },
        "outputId": "7780ccdd-f8bb-46de-81b8-b27f4332506d"
      },
      "cell_type": "code",
      "source": [
        "print(train_data[0])"
      ],
      "execution_count": 8,
      "outputs": [
        {
          "output_type": "stream",
          "text": [
            "[7.8750e-02 4.5000e+01 3.4400e+00 0.0000e+00 4.3700e-01 6.7820e+00\n",
            " 4.1100e+01 3.7886e+00 5.0000e+00 3.9800e+02 1.5200e+01 3.9387e+02\n",
            " 6.6800e+00]\n"
          ],
          "name": "stdout"
        }
      ]
    },
    {
      "metadata": {
        "id": "y4P_C0Hdj-sM",
        "colab_type": "code",
        "colab": {
          "base_uri": "https://localhost:8080/",
          "height": 217
        },
        "outputId": "67ca3d7e-476f-4849-ac7c-3ec51dd006d3"
      },
      "cell_type": "code",
      "source": [
        "import pandas as pd\n",
        "column_names = ['CRIM', 'ZN', 'INDUS', 'CHAS', 'NOX', 'RM', 'AGE', 'DIS', 'RAD',\n",
        "                'TAX', 'PTRATIO', 'B', 'LSTAT']\n",
        "\n",
        "df = pd.DataFrame(train_data, columns = column_names)\n",
        "df.head()"
      ],
      "execution_count": 9,
      "outputs": [
        {
          "output_type": "execute_result",
          "data": {
            "text/html": [
              "<div>\n",
              "<style scoped>\n",
              "    .dataframe tbody tr th:only-of-type {\n",
              "        vertical-align: middle;\n",
              "    }\n",
              "\n",
              "    .dataframe tbody tr th {\n",
              "        vertical-align: top;\n",
              "    }\n",
              "\n",
              "    .dataframe thead th {\n",
              "        text-align: right;\n",
              "    }\n",
              "</style>\n",
              "<table border=\"1\" class=\"dataframe\">\n",
              "  <thead>\n",
              "    <tr style=\"text-align: right;\">\n",
              "      <th></th>\n",
              "      <th>CRIM</th>\n",
              "      <th>ZN</th>\n",
              "      <th>INDUS</th>\n",
              "      <th>CHAS</th>\n",
              "      <th>NOX</th>\n",
              "      <th>RM</th>\n",
              "      <th>AGE</th>\n",
              "      <th>DIS</th>\n",
              "      <th>RAD</th>\n",
              "      <th>TAX</th>\n",
              "      <th>PTRATIO</th>\n",
              "      <th>B</th>\n",
              "      <th>LSTAT</th>\n",
              "    </tr>\n",
              "  </thead>\n",
              "  <tbody>\n",
              "    <tr>\n",
              "      <th>0</th>\n",
              "      <td>0.07875</td>\n",
              "      <td>45.0</td>\n",
              "      <td>3.44</td>\n",
              "      <td>0.0</td>\n",
              "      <td>0.437</td>\n",
              "      <td>6.782</td>\n",
              "      <td>41.1</td>\n",
              "      <td>3.7886</td>\n",
              "      <td>5.0</td>\n",
              "      <td>398.0</td>\n",
              "      <td>15.2</td>\n",
              "      <td>393.87</td>\n",
              "      <td>6.68</td>\n",
              "    </tr>\n",
              "    <tr>\n",
              "      <th>1</th>\n",
              "      <td>4.55587</td>\n",
              "      <td>0.0</td>\n",
              "      <td>18.10</td>\n",
              "      <td>0.0</td>\n",
              "      <td>0.718</td>\n",
              "      <td>3.561</td>\n",
              "      <td>87.9</td>\n",
              "      <td>1.6132</td>\n",
              "      <td>24.0</td>\n",
              "      <td>666.0</td>\n",
              "      <td>20.2</td>\n",
              "      <td>354.70</td>\n",
              "      <td>7.12</td>\n",
              "    </tr>\n",
              "    <tr>\n",
              "      <th>2</th>\n",
              "      <td>0.09604</td>\n",
              "      <td>40.0</td>\n",
              "      <td>6.41</td>\n",
              "      <td>0.0</td>\n",
              "      <td>0.447</td>\n",
              "      <td>6.854</td>\n",
              "      <td>42.8</td>\n",
              "      <td>4.2673</td>\n",
              "      <td>4.0</td>\n",
              "      <td>254.0</td>\n",
              "      <td>17.6</td>\n",
              "      <td>396.90</td>\n",
              "      <td>2.98</td>\n",
              "    </tr>\n",
              "    <tr>\n",
              "      <th>3</th>\n",
              "      <td>0.01870</td>\n",
              "      <td>85.0</td>\n",
              "      <td>4.15</td>\n",
              "      <td>0.0</td>\n",
              "      <td>0.429</td>\n",
              "      <td>6.516</td>\n",
              "      <td>27.7</td>\n",
              "      <td>8.5353</td>\n",
              "      <td>4.0</td>\n",
              "      <td>351.0</td>\n",
              "      <td>17.9</td>\n",
              "      <td>392.43</td>\n",
              "      <td>6.36</td>\n",
              "    </tr>\n",
              "    <tr>\n",
              "      <th>4</th>\n",
              "      <td>0.52693</td>\n",
              "      <td>0.0</td>\n",
              "      <td>6.20</td>\n",
              "      <td>0.0</td>\n",
              "      <td>0.504</td>\n",
              "      <td>8.725</td>\n",
              "      <td>83.0</td>\n",
              "      <td>2.8944</td>\n",
              "      <td>8.0</td>\n",
              "      <td>307.0</td>\n",
              "      <td>17.4</td>\n",
              "      <td>382.00</td>\n",
              "      <td>4.63</td>\n",
              "    </tr>\n",
              "  </tbody>\n",
              "</table>\n",
              "</div>"
            ],
            "text/plain": [
              "      CRIM    ZN  INDUS  CHAS    NOX     RM   AGE     DIS   RAD    TAX  \\\n",
              "0  0.07875  45.0   3.44   0.0  0.437  6.782  41.1  3.7886   5.0  398.0   \n",
              "1  4.55587   0.0  18.10   0.0  0.718  3.561  87.9  1.6132  24.0  666.0   \n",
              "2  0.09604  40.0   6.41   0.0  0.447  6.854  42.8  4.2673   4.0  254.0   \n",
              "3  0.01870  85.0   4.15   0.0  0.429  6.516  27.7  8.5353   4.0  351.0   \n",
              "4  0.52693   0.0   6.20   0.0  0.504  8.725  83.0  2.8944   8.0  307.0   \n",
              "\n",
              "   PTRATIO       B  LSTAT  \n",
              "0     15.2  393.87   6.68  \n",
              "1     20.2  354.70   7.12  \n",
              "2     17.6  396.90   2.98  \n",
              "3     17.9  392.43   6.36  \n",
              "4     17.4  382.00   4.63  "
            ]
          },
          "metadata": {
            "tags": []
          },
          "execution_count": 9
        }
      ]
    },
    {
      "metadata": {
        "id": "EWLvcB2nk2yo",
        "colab_type": "code",
        "colab": {
          "base_uri": "https://localhost:8080/",
          "height": 34
        },
        "outputId": "d8697311-d071-4007-8d33-e414e87e2ccc"
      },
      "cell_type": "code",
      "source": [
        "print(train_labels[0:10])"
      ],
      "execution_count": 10,
      "outputs": [
        {
          "output_type": "stream",
          "text": [
            "[32.  27.5 32.  23.1 50.  20.6 22.6 36.2 21.8 19.5]\n"
          ],
          "name": "stdout"
        }
      ]
    },
    {
      "metadata": {
        "id": "THh8S-pPlHl8",
        "colab_type": "code",
        "colab": {
          "base_uri": "https://localhost:8080/",
          "height": 70
        },
        "outputId": "184c79bc-3ad5-4e3c-96a9-c582d5b3cc27"
      },
      "cell_type": "code",
      "source": [
        "#Normalizing the features\n",
        "\n",
        "mean = train_data.mean(axis = 0)\n",
        "std = train_data.std(axis = 0)\n",
        "train_data = (train_data-mean)/std\n",
        "test_data = (test_data-mean)/std\n",
        "\n",
        "print(train_data[0])"
      ],
      "execution_count": 11,
      "outputs": [
        {
          "output_type": "stream",
          "text": [
            "[-0.39725269  1.41205707 -1.12664623 -0.25683275 -1.027385    0.72635358\n",
            " -1.00016413  0.02383449 -0.51114231 -0.04753316 -1.49067405  0.41584124\n",
            " -0.83648691]\n"
          ],
          "name": "stdout"
        }
      ]
    },
    {
      "metadata": {
        "id": "iqRdHOamlzr7",
        "colab_type": "code",
        "colab": {
          "base_uri": "https://localhost:8080/",
          "height": 217
        },
        "outputId": "518c09a8-b981-4687-a81e-002d83aba816"
      },
      "cell_type": "code",
      "source": [
        "df = pd.DataFrame(train_data, columns = column_names)\n",
        "df.head()"
      ],
      "execution_count": 12,
      "outputs": [
        {
          "output_type": "execute_result",
          "data": {
            "text/html": [
              "<div>\n",
              "<style scoped>\n",
              "    .dataframe tbody tr th:only-of-type {\n",
              "        vertical-align: middle;\n",
              "    }\n",
              "\n",
              "    .dataframe tbody tr th {\n",
              "        vertical-align: top;\n",
              "    }\n",
              "\n",
              "    .dataframe thead th {\n",
              "        text-align: right;\n",
              "    }\n",
              "</style>\n",
              "<table border=\"1\" class=\"dataframe\">\n",
              "  <thead>\n",
              "    <tr style=\"text-align: right;\">\n",
              "      <th></th>\n",
              "      <th>CRIM</th>\n",
              "      <th>ZN</th>\n",
              "      <th>INDUS</th>\n",
              "      <th>CHAS</th>\n",
              "      <th>NOX</th>\n",
              "      <th>RM</th>\n",
              "      <th>AGE</th>\n",
              "      <th>DIS</th>\n",
              "      <th>RAD</th>\n",
              "      <th>TAX</th>\n",
              "      <th>PTRATIO</th>\n",
              "      <th>B</th>\n",
              "      <th>LSTAT</th>\n",
              "    </tr>\n",
              "  </thead>\n",
              "  <tbody>\n",
              "    <tr>\n",
              "      <th>0</th>\n",
              "      <td>-0.397253</td>\n",
              "      <td>1.412057</td>\n",
              "      <td>-1.126646</td>\n",
              "      <td>-0.256833</td>\n",
              "      <td>-1.027385</td>\n",
              "      <td>0.726354</td>\n",
              "      <td>-1.000164</td>\n",
              "      <td>0.023834</td>\n",
              "      <td>-0.511142</td>\n",
              "      <td>-0.047533</td>\n",
              "      <td>-1.490674</td>\n",
              "      <td>0.415841</td>\n",
              "      <td>-0.836487</td>\n",
              "    </tr>\n",
              "    <tr>\n",
              "      <th>1</th>\n",
              "      <td>0.087846</td>\n",
              "      <td>-0.483615</td>\n",
              "      <td>1.028326</td>\n",
              "      <td>-0.256833</td>\n",
              "      <td>1.371293</td>\n",
              "      <td>-3.817250</td>\n",
              "      <td>0.676891</td>\n",
              "      <td>-1.049006</td>\n",
              "      <td>1.675886</td>\n",
              "      <td>1.565287</td>\n",
              "      <td>0.784476</td>\n",
              "      <td>-0.000885</td>\n",
              "      <td>-0.775760</td>\n",
              "    </tr>\n",
              "    <tr>\n",
              "      <th>2</th>\n",
              "      <td>-0.395379</td>\n",
              "      <td>1.201427</td>\n",
              "      <td>-0.690066</td>\n",
              "      <td>-0.256833</td>\n",
              "      <td>-0.942023</td>\n",
              "      <td>0.827918</td>\n",
              "      <td>-0.939245</td>\n",
              "      <td>0.259915</td>\n",
              "      <td>-0.626249</td>\n",
              "      <td>-0.914123</td>\n",
              "      <td>-0.398602</td>\n",
              "      <td>0.448077</td>\n",
              "      <td>-1.347144</td>\n",
              "    </tr>\n",
              "    <tr>\n",
              "      <th>3</th>\n",
              "      <td>-0.403759</td>\n",
              "      <td>3.097099</td>\n",
              "      <td>-1.022279</td>\n",
              "      <td>-0.256833</td>\n",
              "      <td>-1.095675</td>\n",
              "      <td>0.351129</td>\n",
              "      <td>-1.480347</td>\n",
              "      <td>2.364762</td>\n",
              "      <td>-0.626249</td>\n",
              "      <td>-0.330379</td>\n",
              "      <td>-0.262093</td>\n",
              "      <td>0.400521</td>\n",
              "      <td>-0.880652</td>\n",
              "    </tr>\n",
              "    <tr>\n",
              "      <th>4</th>\n",
              "      <td>-0.348692</td>\n",
              "      <td>-0.483615</td>\n",
              "      <td>-0.720935</td>\n",
              "      <td>-0.256833</td>\n",
              "      <td>-0.455458</td>\n",
              "      <td>3.467186</td>\n",
              "      <td>0.501302</td>\n",
              "      <td>-0.417158</td>\n",
              "      <td>-0.165822</td>\n",
              "      <td>-0.595170</td>\n",
              "      <td>-0.489608</td>\n",
              "      <td>0.289557</td>\n",
              "      <td>-1.119419</td>\n",
              "    </tr>\n",
              "  </tbody>\n",
              "</table>\n",
              "</div>"
            ],
            "text/plain": [
              "       CRIM        ZN     INDUS      CHAS       NOX        RM       AGE  \\\n",
              "0 -0.397253  1.412057 -1.126646 -0.256833 -1.027385  0.726354 -1.000164   \n",
              "1  0.087846 -0.483615  1.028326 -0.256833  1.371293 -3.817250  0.676891   \n",
              "2 -0.395379  1.201427 -0.690066 -0.256833 -0.942023  0.827918 -0.939245   \n",
              "3 -0.403759  3.097099 -1.022279 -0.256833 -1.095675  0.351129 -1.480347   \n",
              "4 -0.348692 -0.483615 -0.720935 -0.256833 -0.455458  3.467186  0.501302   \n",
              "\n",
              "        DIS       RAD       TAX   PTRATIO         B     LSTAT  \n",
              "0  0.023834 -0.511142 -0.047533 -1.490674  0.415841 -0.836487  \n",
              "1 -1.049006  1.675886  1.565287  0.784476 -0.000885 -0.775760  \n",
              "2  0.259915 -0.626249 -0.914123 -0.398602  0.448077 -1.347144  \n",
              "3  2.364762 -0.626249 -0.330379 -0.262093  0.400521 -0.880652  \n",
              "4 -0.417158 -0.165822 -0.595170 -0.489608  0.289557 -1.119419  "
            ]
          },
          "metadata": {
            "tags": []
          },
          "execution_count": 12
        }
      ]
    },
    {
      "metadata": {
        "id": "Wm2CqTjYl605",
        "colab_type": "code",
        "colab": {
          "base_uri": "https://localhost:8080/",
          "height": 247
        },
        "outputId": "0892510c-044e-4b24-e6db-2758592085a6"
      },
      "cell_type": "code",
      "source": [
        "def build_model():\n",
        "  model = keras.Sequential([\n",
        "      keras.layers.Dense(64,activation = tf.nn.relu,\n",
        "                        input_shape = (train_data.shape[1],)),\n",
        "      keras.layers.Dense(64,activation = tf.nn.relu),\n",
        "      keras.layers.Dense(1)      \n",
        "  ])\n",
        "  \n",
        "  optimizer = tf.train.RMSPropOptimizer(0.001)\n",
        "  \n",
        "  model.compile(loss = 'mse',\n",
        "                optimizer = optimizer,\n",
        "                metrics = ['mae'])\n",
        "  return model\n",
        "\n",
        "model = build_model()\n",
        "\n",
        "model.summary()"
      ],
      "execution_count": 13,
      "outputs": [
        {
          "output_type": "stream",
          "text": [
            "_________________________________________________________________\n",
            "Layer (type)                 Output Shape              Param #   \n",
            "=================================================================\n",
            "dense (Dense)                (None, 64)                896       \n",
            "_________________________________________________________________\n",
            "dense_1 (Dense)              (None, 64)                4160      \n",
            "_________________________________________________________________\n",
            "dense_2 (Dense)              (None, 1)                 65        \n",
            "=================================================================\n",
            "Total params: 5,121\n",
            "Trainable params: 5,121\n",
            "Non-trainable params: 0\n",
            "_________________________________________________________________\n"
          ],
          "name": "stdout"
        }
      ]
    },
    {
      "metadata": {
        "id": "BZsKozl0t-ZP",
        "colab_type": "code",
        "colab": {
          "base_uri": "https://localhost:8080/",
          "height": 143
        },
        "outputId": "390d9de0-cfdc-46ea-d428-78eb66888817"
      },
      "cell_type": "code",
      "source": [
        "class PrintDot(keras.callbacks.Callback):\n",
        "  def on_epoch_end(self,epoch,logs):\n",
        "    if epoch%100 == 0: print('')\n",
        "    print('.',end ='')\n",
        "\n",
        "EPOCHS = 500\n",
        "\n",
        "history = model.fit(train_data, train_labels, epochs = EPOCHS,\n",
        "                   validation_split = 0.2, verbose = 0,\n",
        "                   callbacks = [PrintDot()])"
      ],
      "execution_count": 14,
      "outputs": [
        {
          "output_type": "stream",
          "text": [
            "\n",
            "....................................................................................................\n",
            "....................................................................................................\n",
            "....................................................................................................\n",
            "....................................................................................................\n",
            "...................................................................................................."
          ],
          "name": "stdout"
        }
      ]
    },
    {
      "metadata": {
        "id": "wabB255wwSrN",
        "colab_type": "code",
        "colab": {
          "base_uri": "https://localhost:8080/",
          "height": 364
        },
        "outputId": "259f568c-b7eb-4dff-fe3c-9cf5d40d2692"
      },
      "cell_type": "code",
      "source": [
        "import matplotlib.pyplot as plt\n",
        "\n",
        "def plot_history(history):\n",
        "  plt.figure()\n",
        "  plt.xlabel('Epoch')\n",
        "  plt.ylabel('Mean Abs Error [1000$]')\n",
        "  plt.plot(history.epoch, np.array(history.history['mean_absolute_error']),\n",
        "          label = 'Train Loss')\n",
        "  plt.plot(history.epoch,np.array(history.history['val_mean_absolute_error']),\n",
        "          label = 'Val Loss')\n",
        "  plt.legend()\n",
        "  plt.ylim([0,5])\n",
        "  \n",
        "plot_history(history)"
      ],
      "execution_count": 16,
      "outputs": [
        {
          "output_type": "display_data",
          "data": {
            "image/png": "[encoded data removed]",
            "text/plain": [
              "<matplotlib.figure.Figure at 0x7f56bbce61d0>"
            ]
          },
          "metadata": {
            "tags": []
          }
        }
      ]
    },
    {
      "metadata": {
        "id": "omiLXa8Gym_p",
        "colab_type": "code",
        "colab": {
          "base_uri": "https://localhost:8080/",
          "height": 437
        },
        "outputId": "7c58c394-012e-471a-ab12-13d5c8a73348"
      },
      "cell_type": "code",
      "source": [
        "model = build_model()\n",
        "\n",
        "early_stop = keras.callbacks.EarlyStopping(monitor ='val_loss', patience = 20)\n",
        "\n",
        "history = model.fit(train_data,train_labels, epochs = EPOCHS,\n",
        "                   validation_split = 0.2, verbose = 0,\n",
        "                   callbacks = [early_stop, PrintDot()])\n",
        "\n",
        "plot_history(history)"
      ],
      "execution_count": 17,
      "outputs": [
        {
          "output_type": "stream",
          "text": [
            "\n",
            "....................................................................................................\n",
            ".............................................................................."
          ],
          "name": "stdout"
        },
        {
          "output_type": "display_data",
          "data": {
            "image/png": "[encoded data removed]",
            "text/plain": [
              "<matplotlib.figure.Figure at 0x7f56bfda8908>"
            ]
          },
          "metadata": {
            "tags": []
          }
        }
      ]
    },
    {
      "metadata": {
        "id": "Tui11HJizbAt",
        "colab_type": "code",
        "colab": {
          "base_uri": "https://localhost:8080/",
          "height": 34
        },
        "outputId": "7ed03fc3-b301-49f4-9a68-3a828d03b499"
      },
      "cell_type": "code",
      "source": [
        "[loss, mae] = model.evaluate(test_data, test_labels, verbose = 0)\n",
        "\n",
        "print(\"Testing set Mean Abs Error: ${:7.2f}\".format(mae*1000))\n"
      ],
      "execution_count": 18,
      "outputs": [
        {
          "output_type": "stream",
          "text": [
            "Testing set Mean Abs Error: $2639.96\n"
          ],
          "name": "stdout"
        }
      ]
    },
    {
      "metadata": {
        "id": "hu_fYC4q0mUZ",
        "colab_type": "code",
        "colab": {}
      },
      "cell_type": "code",
      "source": [
        ""
      ],
      "execution_count": 0,
      "outputs": []
    }
  ]
}